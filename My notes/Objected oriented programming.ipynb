{
 "cells": [
  {
   "cell_type": "markdown",
   "metadata": {},
   "source": [
    "# Object and OOP\n",
    "* every object has a \n",
    "    * type\n",
    "    * an internal data representation through data attributes\n",
    "    * a set of interaction with the object through methods\n",
    "* an object is an instance of a type\n",
    "* advantages of OOP\n",
    "    * bundle data into packages together with procedures that work on them through well-defined interfaces\n",
    "    * divide-and-conquer\n",
    "        * implement and test behaviour of each class separately\n",
    "    * easy to reuse code； build layers of object abstractions that inherit behaviours from other classes\n",
    "   "
   ]
  },
  {
   "cell_type": "markdown",
   "metadata": {},
   "source": [
    "# Creating and using your own data types with classes\n",
    "* creating the class\n",
    "    * class name\n",
    "    * class attributes: what make up the class\n",
    "    * class methods: function that only work with this class\n",
    "    * \".\" is used to access both attributes/methods\n",
    "* using the class\n",
    "    * creating new instances of objects & doing operations on them"
   ]
  },
  {
   "cell_type": "code",
   "execution_count": 8,
   "metadata": {},
   "outputs": [
    {
     "name": "stdout",
     "output_type": "stream",
     "text": [
      "3\n",
      "5.0\n",
      "5.0\n"
     ]
    }
   ],
   "source": [
    "class Coordinate(object):  #a subclass of object, inherits all its attributes)\n",
    "    def __init__(self, x, y):   # special method; run when it is first defined\n",
    "    # self parameter refer to an instance of the class; x,y are data that initialises a coordiante object\n",
    "        self.x = x\n",
    "        self.y = y\n",
    "    def distance(self, other):\n",
    "        x_diff_sq = (self.x - other.x) ** 2\n",
    "        y_diff_sq = (self.y - other.y) ** 2\n",
    "        return (x_diff_sq + y_diff_sq) ** 0.5\n",
    "    def __str__(self): # called when used with print on your class object\n",
    "        return \"<\" + str(self.x) + \",\" + str(self.y) + \">\"\n",
    "\n",
    "# create new instance of Coordinate class, and access its attributes\n",
    "c = Coordinate(3,4)  # don't provide argument for self\n",
    "print(c.x)\n",
    "\n",
    "# use a method\n",
    "# conventional way\n",
    "zero = Coordinate(0, 0)\n",
    "print(c.distance(zero))\n",
    "# alternative way\n",
    "print(Coordinate.distance(c, zero))  # parameter includes an object to call the method on\n"
   ]
  },
  {
   "cell_type": "code",
   "execution_count": 10,
   "metadata": {},
   "outputs": [
    {
     "name": "stdout",
     "output_type": "stream",
     "text": [
      "<3,4>\n",
      "<class '__main__.Coordinate'>\n",
      "<class '__main__.Coordinate'>\n",
      "<class 'type'>\n"
     ]
    }
   ],
   "source": [
    "print(c)\n",
    "print(type(c))\n",
    "print(Coordinate)\n",
    "print(type(Coordinate))\n",
    "# c is a class Coordinate; a Coordinate is a class; a Coordinate class is a type of object"
   ]
  },
  {
   "cell_type": "markdown",
   "metadata": {},
   "source": [
    "* Special operators - redefine +,-...\n",
    "    * __add__(self, other)  #+\n",
    "    * __sub__(self, other)  #-\n",
    "    * __eq__(self, other)  #==\n",
    "    * __lt__(self, other)  #<\n",
    "    * __len__(self)  #len(self)\n",
    "    * __str__(self)  #print(self)"
   ]
  },
  {
   "cell_type": "code",
   "execution_count": 11,
   "metadata": {},
   "outputs": [],
   "source": [
    "class Fraction(object):\n",
    "    \"\"\"\n",
    "    A number represented as a fraction\n",
    "    \"\"\"\n",
    "    def __init__(self, num, denom):\n",
    "        \"\"\" num and denom are integers \"\"\"\n",
    "        assert type(num) == int and type(denom) == int, \"ints not used\"\n",
    "        self.num = num\n",
    "        self.denom = denom\n",
    "    def __str__(self):\n",
    "        \"\"\" Retunrs a string representation of self \"\"\"\n",
    "        return str(self.num) + \"/\" + str(self.denom)\n",
    "    def __add__(self, other):\n",
    "        \"\"\" Returns a new fraction representing the addition \"\"\"\n",
    "        top = self.num*other.denom + self.denom*other.num\n",
    "        bott = self.denom*other.denom\n",
    "        return Fraction(top, bott)\n",
    "    def __sub__(self, other):\n",
    "        \"\"\" Returns a new fraction representing the subtraction \"\"\"\n",
    "        top = self.num*other.denom - self.denom*other.num\n",
    "        bott = self.denom*other.denom\n",
    "        return Fraction(top, bott)\n",
    "    def __float__(self):\n",
    "        \"\"\" Returns a float value of the fraction \"\"\"\n",
    "        return self.num/self.denom\n",
    "    def inverse(self):\n",
    "        \"\"\" Returns a new fraction representing 1/self \"\"\"\n",
    "        return Fraction(self.denom, self.num)"
   ]
  },
  {
   "cell_type": "markdown",
   "metadata": {},
   "source": [
    "## Getters and Setters\n",
    "* Outside of class, getters & setters should be used to access data attributes\n",
    "* This is for the purpose of information hiding\n",
    "    * author of class may change data attributes' names -> error\n",
    "    * What's in the class should be a \"blackbox\" while the users of the class should not access attributes directly\n",
    "    * good style, easy to maintain, prevent bugs ...\n",
    "* Note: getter for mutable type e.g. dict : should return a copy to prevent someone from mutating the original dictionary."
   ]
  },
  {
   "cell_type": "code",
   "execution_count": 2,
   "metadata": {},
   "outputs": [
    {
     "name": "stdout",
     "output_type": "stream",
     "text": [
      "3\n",
      "3\n"
     ]
    }
   ],
   "source": [
    "class Animal(object):\n",
    "    def __init__(self, age):\n",
    "        self.age = age\n",
    "        self.name = None\n",
    "    def get_age(self):\n",
    "        return self.age\n",
    "    def get_name(self):\n",
    "        return self.name\n",
    "    def set_age(self, newage):\n",
    "        self.age = newage\n",
    "    def set_name(self, newname=\"\"):  # default arguments\n",
    "        self.name = newname\n",
    "    def __str__(self):\n",
    "        return \"animal:\"+str(self.name)+\":\"+str(self.age)\n",
    "    \n",
    "a = Animal(3)\n",
    "print(a.age)          # directly access data attribute, allowed, not recommended\n",
    "print(a.get_age())    # preferred"
   ]
  },
  {
   "cell_type": "markdown",
   "metadata": {},
   "source": [
    "## Inheritance\n",
    "* superclass\n",
    "* subclass\n",
    "    * inherit all data and behaviours\n",
    "    * but can add more attributes/methods or override methods\n",
    "    * Which method to use\n",
    "        * look for a method name in current class def\n",
    "        * if not found, look up the hierarchy"
   ]
  },
  {
   "cell_type": "code",
   "execution_count": 3,
   "metadata": {},
   "outputs": [],
   "source": [
    "class Cat(Animal):\n",
    "    def speak(self):      # new method\n",
    "        print(\"meow\")\n",
    "    def __str__(self):    # override origianl __str__\n",
    "        return \"cat:\"+str(self.name)+\":\"+str(self.age)"
   ]
  },
  {
   "cell_type": "code",
   "execution_count": null,
   "metadata": {},
   "outputs": [],
   "source": [
    "class Person(Animal):\n",
    "    def __init__(self, name, age):\n",
    "        Animal.__init__(self, age)    # inherit attributes\n",
    "        self.set_name(name)           # new attributes\n",
    "        self.friends = []\n",
    "    def get_friends(self):\n",
    "        return self.friends\n",
    "    def speak(self):\n",
    "        print(\"hello\")\n",
    "    def add_friend(self, fname):\n",
    "        if fname not in self.friends:\n",
    "            self.friends.append(fname)\n",
    "    def age_diff(self, other):\n",
    "        diff = self.age - other.age\n",
    "        print(abs(diff), \"year difference\")\n",
    "    def __str__(self):\n",
    "        return \"person:\"+str(self.name)+\":\"+str(self.age)"
   ]
  },
  {
   "cell_type": "markdown",
   "metadata": {},
   "source": [
    "## Class variables\n",
    "* class varaibles: shared between all instances of a class"
   ]
  },
  {
   "cell_type": "code",
   "execution_count": null,
   "metadata": {},
   "outputs": [],
   "source": [
    "class Rabbit(Animal):\n",
    "    # a class variable, tag, shared across all instances\n",
    "    tag = 1\n",
    "    def __init__(self, age, parent1=None, parent2=None):\n",
    "        Animal.__init__(self, age)\n",
    "        self.parent1 = parent1\n",
    "        self.parent2 = parent2\n",
    "        self.rid = Rabbit.tag   # access class variable, give unique id to each new rabbit instance\n",
    "        Rabbit.tag += 1         \n",
    "    def get_rid(self):\n",
    "        # zfill used to add leading zeroes 001 instead of 1\n",
    "        return str(self.rid).zfill(3)\n",
    "    def get_parent1(self):\n",
    "        return self.parent1\n",
    "    def get_parent2(self):\n",
    "        return self.parent2\n",
    "    def __add__(self, other):\n",
    "        # returning object of same type as this class\n",
    "        return Rabbit(0, self, other)   # age = 0; parents are self and other\n",
    "    def __eq__(self, other):\n",
    "        # compare the ids of self and other's parents\n",
    "        # note: can't compare objects directly: will call __eq__ over & over, until call in on None, giving an AttributeError\n",
    "        # the backslash tells python I want to break up my line\n",
    "        parents_same = self.parent1.rid == other.parent1.rid \\       \n",
    "                       and self.parent2.rid == other.parent2.rid\n",
    "        parents_opposite = self.parent2.rid == other.parent1.rid \\\n",
    "                           and self.parent1.rid == other.parent2.rid\n",
    "        return parents_same or parents_opposite\n",
    "    def __str__(self):\n",
    "        return \"rabbit:\"+ self.get_rid()"
   ]
  }
 ],
 "metadata": {
  "kernelspec": {
   "display_name": "Python 3",
   "language": "python",
   "name": "python3"
  },
  "language_info": {
   "codemirror_mode": {
    "name": "ipython",
    "version": 3
   },
   "file_extension": ".py",
   "mimetype": "text/x-python",
   "name": "python",
   "nbconvert_exporter": "python",
   "pygments_lexer": "ipython3",
   "version": "3.6.9"
  },
  "toc": {
   "base_numbering": 1,
   "nav_menu": {},
   "number_sections": true,
   "sideBar": true,
   "skip_h1_title": false,
   "title_cell": "Table of Contents",
   "title_sidebar": "Contents",
   "toc_cell": false,
   "toc_position": {},
   "toc_section_display": true,
   "toc_window_display": false
  }
 },
 "nbformat": 4,
 "nbformat_minor": 2
}
