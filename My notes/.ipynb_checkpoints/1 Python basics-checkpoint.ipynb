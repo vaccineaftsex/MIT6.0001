{
 "cells": [
  {
   "cell_type": "markdown",
   "metadata": {},
   "source": [
    "# 基础语法\n",
    "## 多行语句\n",
    "\\实现多行语句\n",
    "[], (), {} 中的多行语句不需要\\\n",
    "\n",
    "\n"
   ]
  },
  {
   "cell_type": "code",
   "execution_count": null,
   "metadata": {},
   "outputs": [],
   "source": [
    "total = item_one + \\\n",
    "        item_two + \\\n",
    "        item_three"
   ]
  },
  {
   "cell_type": "markdown",
   "metadata": {},
   "source": [
    "## 同一行显示多条语句\n",
    "语句之间使用分号(;)分割"
   ]
  },
  {
   "cell_type": "markdown",
   "metadata": {},
   "source": [
    "## PEP 8\n",
    "https://www.python.org/dev/peps/pep-0008/"
   ]
  },
  {
   "cell_type": "markdown",
   "metadata": {},
   "source": [
    "# Data type\n",
    "Python 中的变量不需要声明、且没有类型，它只是一个指针\n",
    "每个变量在使用前都必须赋值。\n",
    "* mutable object: list, dict, set\n",
    "* immutable object: number, strings, tuples\n",
    "\n",
    "## Variables\n",
    "* 多变量赋值\n",
    "* 删除对象引用：del var1, var 2"
   ]
  },
  {
   "cell_type": "code",
   "execution_count": null,
   "metadata": {},
   "outputs": [],
   "source": [
    "a, b, c = 1, 2, 'runoob'\n",
    "d = e = f = 1\n",
    "del a,b\n",
    "print(d,e,f)\n",
    "print(b,c)\n"
   ]
  },
  {
   "cell_type": "markdown",
   "metadata": {},
   "source": [
    "## Number\n",
    "* 不允许改变（如果改变数值，将重新分配内存空间）\n",
    "* Int, bool, float, complex\n",
    "    * 16进制 0x开头\n",
    "    * 8进制 0o开头\n",
    "    * complex a+bj or complex(a,b)\n",
    "    * bool 可以与数字相加\n"
   ]
  },
  {
   "cell_type": "code",
   "execution_count": 3,
   "metadata": {},
   "outputs": [
    {
     "name": "stdout",
     "output_type": "stream",
     "text": [
      "<class 'int'> <class 'float'> <class 'bool'> <class 'complex'>\n"
     ]
    },
    {
     "data": {
      "text/plain": [
       "True"
      ]
     },
     "execution_count": 3,
     "metadata": {},
     "output_type": "execute_result"
    }
   ],
   "source": [
    "a, b, c, d = 20, 5.5, True, 4+3j\n",
    "print(type(a), type(b), type(c), type(d))\n",
    "isinstance(a,int)"
   ]
  },
  {
   "cell_type": "markdown",
   "metadata": {},
   "source": [
    "isinstance 和 type 的区别在于：\n",
    "* type()不会认为子类是一种父类类型。\n",
    "* isinstance()会认为子类是一种父类类型。"
   ]
  },
  {
   "cell_type": "code",
   "execution_count": 4,
   "metadata": {},
   "outputs": [
    {
     "name": "stdout",
     "output_type": "stream",
     "text": [
      "True \n",
      "\n",
      "False\n"
     ]
    }
   ],
   "source": [
    "class A:\n",
    "    pass # 空语句，不做任何事\n",
    "class B(A):\n",
    "    pass\n",
    "print(isinstance(B(),A), '\\n')\n",
    "print(type(B) == A)"
   ]
  },
  {
   "attachments": {
    "3.png": {
     "image/png": "[encoded data removed]"
    }
   },
   "cell_type": "markdown",
   "metadata": {},
   "source": [
    "## String\n",
    "* 多行字符串 triple quote'''\n",
    "    * '''\\  #the initial newline is not included\n",
    "* single or double quote both work\n",
    "* 转义符 \\  \n",
    "    * \\escape single quote: 'doesn\\'t'  # OR \"doesn't\"\n",
    "    * r\"this is a line with \\n\"  #raw string\n",
    "* +，*\n",
    "    * Two or more string literals (i.e. the ones enclosed between quotes) next to each other are automatically concatenated.\n",
    "        * 'py''thon'\n",
    "* 索引和截取\n",
    "    * 索引： 从左往右以0开始，从右往左以-1开始\n",
    "        * out of range indexes will cause errors\n",
    "    * 截取： 变量[头下标：尾下标：步长]\n",
    "        * out of range slice indexes are handled gracefully \n",
    "    ![3.png](attachment:3.png)\n",
    "* P不能被改变。向一个索引位置赋值，比如word[0] = 'm'会导致错误。\n",
    "* 字符串函数\n",
    "    * len(string)\n",
    "    * str.join(seq)  #用str来连接seq\n",
    "    * capitalize(), lower(), swapcase()\n",
    "    * center(width, fillchar)  #返回宽度为width，原字符串居中，其他地方由fillchar填充（默认为space）\n",
    "    * count(str, beg = 0, end = len(string))  #返回str在string中出现的次数\n",
    "    * find(str, beg = 0, end = len(string)); index(str, beg = 0, end = len(string))  #index: str不在字符中会报一个异常\n",
    "    * rfind, rindex  #从右边开始\n",
    "    * isalnum(), isalpha(), isdigit(), islower(), isupper(), isnumeric(), isspace()\n",
    "    * replace(old, new[, max]) # 替换不超过max次\n",
    "    * split(str='', num=string.count(str))  #以str为分隔符截取字符串，仅截取 num+1 个）\n",
    "    * strip([chars])  #return new string where all chars have been stripped from the beginning and the end of the string.\n",
    "         * stirp() will strip \" \", \"\\n\" etc\n",
    "    "
   ]
  },
  {
   "cell_type": "code",
   "execution_count": 1,
   "metadata": {
    "scrolled": true
   },
   "outputs": [
    {
     "name": "stdout",
     "output_type": "stream",
     "text": [
      "R\n",
      "b\n",
      "Run\n",
      "uo\n",
      "oob\n",
      "noo\n",
      "boonuR\n",
      "\n",
      "RunoobRunoob\n",
      "Hellow\n",
      "runoob\n",
      "Hellow\\nrunoob\n"
     ]
    }
   ],
   "source": [
    "str = 'Runoob'\n",
    "print(str[0])\n",
    "print(str[-1])\n",
    "\n",
    "print(str[0:3])\n",
    "print(str[1:5:2])\n",
    "print(str[3:])\n",
    "print(str[-4:-1])\n",
    "\n",
    "print(str[::-1])\n",
    "\n",
    "print(\"\\n\" + str * 2)\n",
    "print('Hellow\\nrunoob')\n",
    "print(r'Hellow\\nrunoob')"
   ]
  },
  {
   "cell_type": "code",
   "execution_count": 6,
   "metadata": {},
   "outputs": [
    {
     "name": "stdout",
     "output_type": "stream",
     "text": [
      "my name is xiaoming. I am 12 years' old\n"
     ]
    }
   ],
   "source": [
    "print(\"my name is %s. I am %d years' old\" % (\"xiaoming\", 12))"
   ]
  },
  {
   "attachments": {
    "4.png": {
     "image/png": "[encoded data removed]"
    }
   },
   "cell_type": "markdown",
   "metadata": {},
   "source": [
    "## List\n",
    "* []\n",
    "* 索引和截取\n",
    "变量[头下标:尾下标]\n",
    "![4.png](attachment:4.png)\n",
    "* +，* 拼接，重复列表\n",
    "* 与字符串不同，list中元素可以改变\n",
    "* del\n",
    "    * del list[5]\n",
    "    * del list[2:4]\n",
    "    * del list[:]  # list =[]\n",
    "    * del list  #delete the entire thing \n",
    "* 列表函数：\n",
    "    * len(list)\n",
    "    * max(list); min(list)\n",
    "    * list(seq)  # tuple -> list\n",
    "\n"
   ]
  },
  {
   "cell_type": "code",
   "execution_count": 7,
   "metadata": {},
   "outputs": [
    {
     "name": "stdout",
     "output_type": "stream",
     "text": [
      "[786, 2.23]\n",
      "['abcd', 786, 2.23, 70.2, 'abcd', 786, 2.23, 70.2]\n",
      "['abcd', 786, 2.23, 70.2, 123, 'edf']\n",
      "['abcd', 786, 1, 2]\n",
      "['abcd', 786, 1]\n"
     ]
    }
   ],
   "source": [
    "list = ['abcd', 786, 2.23, 70.2]\n",
    "list2 = [123, 'edf']\n",
    "\n",
    "print(list[1:3])\n",
    "print(list * 2)\n",
    "print(list + list2)\n",
    "\n",
    "list[2:4]=[1,2]\n",
    "print(list)\n",
    "del list[3]\n",
    "print(list)"
   ]
  },
  {
   "cell_type": "markdown",
   "metadata": {},
   "source": [
    "* Aliasing and cloning"
   ]
  },
  {
   "cell_type": "code",
   "execution_count": 14,
   "metadata": {},
   "outputs": [],
   "source": [
    "warm = ['red', 'yellow', 'orange']\n",
    "hot = warm  # hot is a alias for warm, changing one changes the other\n",
    "hot_ = warm[:]  # hot_ is a new list - a copy of warm"
   ]
  },
  {
   "cell_type": "code",
   "execution_count": 18,
   "metadata": {},
   "outputs": [
    {
     "name": "stdout",
     "output_type": "stream",
     "text": [
      "None\n"
     ]
    }
   ],
   "source": [
    "warm = ['red', 'yellow', 'orange']\n",
    "warm.sort()  # mutates the list, returns nothing\n",
    "sortedwarm = warm.sort()  # =nothing \n",
    "hot = sorted(warm)\n",
    "print(sortedwarm)"
   ]
  },
  {
   "cell_type": "markdown",
   "metadata": {},
   "source": [
    "* methods of list object\n",
    "    * list.append(obj) # a[len(a):] = [x]\n",
    "    * list.extend(iterable) # a[len(a):] = L\n",
    "    * list.count(obj)\n",
    "    * list.index(obj[, start[, end]])  # obj第一个匹配值的索引位置 start & end are interpreted as in the slice notation\n",
    "    * list.pop([i])  #remove and return the ith obj - pop() pop the last item in the list\n",
    "    * list.insert(i, obj)  #insert x at ith position\n",
    "    * list.remove(obj)  #remove the first one equal to x\n",
    "    * list.sort([key = None, reverse = False])\n",
    "    * sorted(list[, key = None, reverse = False]) #return a copy\n",
    "    * list.clear()  #del a[:]\n",
    "    * list.reverse()\n",
    "    * list.copy() #a[:]\n"
   ]
  },
  {
   "cell_type": "markdown",
   "metadata": {},
   "source": [
    "* list comprehension"
   ]
  },
  {
   "cell_type": "code",
   "execution_count": 48,
   "metadata": {},
   "outputs": [
    {
     "name": "stdout",
     "output_type": "stream",
     "text": [
      "[2, 4, 6] [6, 12, 18] [[2, 4], [4, 16], [6, 36]] [12, 18]\n",
      "['banana', 'loganberry', 'passion fruit']\n",
      "[(1, 2), (1, 3), (2, 1), (2, 3), (3, 1), (3, 2), (4, 1), (4, 2), (4, 3)]\n",
      "[12, 48, 108]\n"
     ]
    }
   ],
   "source": [
    "vec1 = [2, 4, 6]\n",
    "vec2 = [3 * x for x in vec1]\n",
    "vec3 = [[x, x**2] for x in vec1]\n",
    "vec4 = [3 * x for x in vec1 if x > 3 ]\n",
    "print(vec1, vec2, vec3, vec4)\n",
    "\n",
    "freshfruit = [' banana', '    loganberry  ', 'passion fruit  ']\n",
    "print([weapon.strip() for weapon in freshfruit])\n",
    "\n",
    "print([(x, y) for x in range(1,5) for y in range(1,4) if x!=y])\n",
    "print([vec1[i] * vec2[i] for i in range(len(vec1))])"
   ]
  },
  {
   "cell_type": "code",
   "execution_count": 49,
   "metadata": {},
   "outputs": [
    {
     "name": "stdout",
     "output_type": "stream",
     "text": [
      "[1, 2, 3, 4, 5, 6, 7, 8, 9]\n"
     ]
    }
   ],
   "source": [
    "vec = [[1,2,3], [4,5,6], [7,8,9]]\n",
    "print([num for elem in vec for num in elem])    #flatten a list"
   ]
  },
  {
   "cell_type": "markdown",
   "metadata": {},
   "source": [
    "* Convert string to list and back"
   ]
  },
  {
   "cell_type": "code",
   "execution_count": 11,
   "metadata": {},
   "outputs": [
    {
     "name": "stdout",
     "output_type": "stream",
     "text": [
      "['i', '<', '3', ' ', 'c', 's']\n",
      "['i', '3 cs']\n"
     ]
    }
   ],
   "source": [
    "s = \"i<3 cs\"\n",
    "print(list(s))\n",
    "print(s.split('<'))"
   ]
  },
  {
   "cell_type": "code",
   "execution_count": 13,
   "metadata": {},
   "outputs": [
    {
     "data": {
      "text/plain": [
       "'a b c'"
      ]
     },
     "execution_count": 13,
     "metadata": {},
     "output_type": "execute_result"
    }
   ],
   "source": [
    "L = ['a', 'b', 'c']\n",
    "' '.join(L)"
   ]
  },
  {
   "cell_type": "markdown",
   "metadata": {},
   "source": [
    "* use as stack 'last in, first out'\n",
    "    * stack.pop and stack.append\n",
    "* use as queue 'first in, first out'\n",
    "    * from collections import deque  #designed to have fast appends and pops from both ends\n",
    "    * queue = deque[a, b, c]\n",
    "    * queue.popleft and queue.append\n",
    "* use as matrix"
   ]
  },
  {
   "cell_type": "code",
   "execution_count": 52,
   "metadata": {},
   "outputs": [
    {
     "name": "stdout",
     "output_type": "stream",
     "text": [
      "[[1, 5, 9], [2, 6, 10], [3, 7, 11], [4, 8, 12]]\n",
      "[(1, 5, 9), (2, 6, 10), (3, 7, 11), (4, 8, 12)]\n"
     ]
    }
   ],
   "source": [
    "matrix = [\n",
    "    [1, 2, 3, 4],\n",
    "    [5, 6, 7, 8],\n",
    "    [9, 10, 11, 12],\n",
    "]\n",
    "transposed = [[row[j] for row in matrix ]for j in range(4)]\n",
    "print(transposed)\n",
    "print(list(zip(*matrix)))"
   ]
  },
  {
   "cell_type": "markdown",
   "metadata": {},
   "source": [
    "## Tuple\n",
    "* tuple vs list\n",
    "    * tuples are immutable, usually contain a heterogeneous sequence of elements that are accessed via unpacking or indexing (or even by attribute in the case of namedtuples). \n",
    "    * Lists are mutable, and their elements are usually homogeneous and are accessed by iterating over the list.\n",
    "    * but tuple can contain mutable subject e.g. list\n",
    "* () 可省略\n",
    "* 索引和截取\n",
    "* tuple包含1个元素时：tup = (20,)\n",
    "* +, * 进行组合，重复\n",
    "* del删除整个tuple\n",
    "* 函数\n",
    "    * len(tuple)\n",
    "    * max(tuple), min(tuple)\n",
    "    * tuple(seq)  # list->tuple"
   ]
  },
  {
   "cell_type": "code",
   "execution_count": 55,
   "metadata": {},
   "outputs": [
    {
     "name": "stdout",
     "output_type": "stream",
     "text": [
      "(1, 2, 3, 1, 2, 3)\n"
     ]
    }
   ],
   "source": [
    "tup1= (1,2,3)\n",
    "tup2 = tup1*2\n",
    "print(tup2)\n",
    "\n"
   ]
  },
  {
   "cell_type": "code",
   "execution_count": 8,
   "metadata": {},
   "outputs": [
    {
     "name": "stdout",
     "output_type": "stream",
     "text": [
      "('ab', 3, 25, 'ab', 'abc')\n"
     ]
    }
   ],
   "source": [
    "atuple = ('ab', 3, 25, 'ab')\n",
    "atuple += ('abc',)\n",
    "print(atuple)"
   ]
  },
  {
   "cell_type": "markdown",
   "metadata": {},
   "source": [
    "* Sequence unpacking\n",
    "    * multiple assignment is really just a combination of tuple packing and sequence unpacking.\n",
    "    * Conveniently used to swap elements\n",
    "* Often used in a function which returns more than one value"
   ]
  },
  {
   "cell_type": "code",
   "execution_count": 57,
   "metadata": {},
   "outputs": [
    {
     "name": "stdout",
     "output_type": "stream",
     "text": [
      "12345 54321 hello!\n"
     ]
    }
   ],
   "source": [
    "t = 12345, 54321, 'hello!'\n",
    "a, b, c = t\n",
    "print(a, b, c)"
   ]
  },
  {
   "cell_type": "code",
   "execution_count": 3,
   "metadata": {},
   "outputs": [
    {
     "name": "stdout",
     "output_type": "stream",
     "text": [
      "3 2\n"
     ]
    }
   ],
   "source": [
    "x, y = 2, 3\n",
    "(x, y) = (y, x)\n",
    "print(x,y)"
   ]
  },
  {
   "cell_type": "markdown",
   "metadata": {},
   "source": [
    "## Set\n",
    "* set() or {}\n",
    "* 创建空集合必须用 set()， {}会创建一个空的dictionary\n",
    "* membership testing and eliminating duplicate entries\n",
    "* set运算：\n",
    "    * a - b in a and not in b\n",
    "    * a | b union\n",
    "    * a & b intersection\n",
    "    * a ^ b a xor b\n",
    "* if x in s\n",
    "* 函数\n",
    "    * s.add(x,y), s.update(x,y)\n",
    "    * s.remove(x), s.discard(x)  #如果不存在，discard不会产生错误\n",
    "    * s.pop() #随即删除一个元素（并返回），在交互模式种，删除第一个元素\n",
    "    * len(s)\n",
    "    * s.clear()\n",
    "    * s.copy()\n",
    "    * s.difference(set) # 包含在s中，但不在set中\n",
    "    * s.intersection(set1, set 2, ...)\n",
    "    * s.symmetric_difference(set)  * s xor y\n",
    "    * s.union(set1, set2, ...)\n",
    "    * s.difference_update(), s.intersection_update(), s.symmetric_difference_update()\n",
    "    * isdisjoint(), is subset(), is superset()\n",
    "    \n",
    "\n"
   ]
  },
  {
   "cell_type": "code",
   "execution_count": 8,
   "metadata": {},
   "outputs": [
    {
     "name": "stdout",
     "output_type": "stream",
     "text": [
      "{'Mary', 'Tom', 'Jim', 'Rose', 'Jack'}\n",
      "yes\n",
      "{'d', 'a', 'r', 'c', 'b'} {'l', 'm', 'a', 'c', 'z'}\n",
      "{'d', 'r', 'b'}\n",
      "{'a', 'c'}\n",
      "{'d', 'l', 'm', 'a', 'r', 'c', 'b', 'z'}\n",
      "{'d', 'l', 'm', 'b', 'z', 'r'}\n"
     ]
    }
   ],
   "source": [
    "student = {'Tom', 'Jim', 'Mary', 'Tom', 'Jack', 'Rose'}\n",
    "print(student)   # 重复的元素被自动去掉\n",
    "\n",
    "if 'Rose' in student:\n",
    "    print('yes')\n",
    "else:\n",
    "    print('no')\n",
    "    \n",
    "a = set('abracadabra')\n",
    "b = set('alacazam')\n",
    "print(a,b)\n",
    "print(a - b)\n",
    "print(a & b)\n",
    "print(a | b)\n",
    "print(a ^ b)\n"
   ]
  },
  {
   "cell_type": "markdown",
   "metadata": {},
   "source": [
    "* set comprehension"
   ]
  },
  {
   "cell_type": "code",
   "execution_count": 60,
   "metadata": {},
   "outputs": [
    {
     "name": "stdout",
     "output_type": "stream",
     "text": [
      "{'r', 'd'}\n"
     ]
    }
   ],
   "source": [
    "a = {x for x in 'abracadabra' if x not in 'abc'}\n",
    "print(a)"
   ]
  },
  {
   "cell_type": "markdown",
   "metadata": {},
   "source": [
    "## Dictionary\n",
    "* {}\n",
    "* a set of key:value pairs\n",
    "    * must be immutable (number, string or tuples containing immutable objects)\n",
    "    * must be unique\n",
    "* 访问：dict[key]\n",
    "* 修改：dict[key] = \n",
    "* if key in dict:\n",
    "* 删除：\n",
    "    * del dict[key]\n",
    "    * del dict\n",
    "    * dict.clear()\n",
    "* dict -> list\n",
    "    * list(dict)  #make a list of all keys in insertion order\n",
    "    * sorted(dict)  #make a list of all keys sorted\n",
    "* 函数：\n",
    "    * len(dict)\n",
    "    * str(dict)  # 以字符串输出字典\n",
    "* dict methods\n",
    "    * dict.items()  #以list返回可遍历的tuple [(key,value)...]\n",
    "    * dict.keys()， dict.values(), dict.clear() \n",
    "        * list(keys())\n",
    "    * copy()\n",
    "    * fromkeys(seq[,value]) #创建新字典，以seq中元素做key\n",
    "    * get(key, default=None) #返回key的value， 如果不在字典中，返回default   use as key of max/min \n",
    "        * note: a safer way to replace dict.values()\n",
    "    * setdefault(key, default=None) #如果不在，添加key并将值设为default\n",
    "    * update(dict2) #把dict2 更新到dict中\n",
    "    * pop(key[,default])  #删除key，并返回key的值；否则返回default\n",
    "\n"
   ]
  },
  {
   "cell_type": "code",
   "execution_count": 1,
   "metadata": {},
   "outputs": [
    {
     "name": "stdout",
     "output_type": "stream",
     "text": [
      "{'one': 1, 2: 2}\n",
      "{'name': 'runoob', 'code': 1, 'site': 'runoob.com'}\n",
      "dict_keys(['name', 'code', 'site'])\n",
      "dict_values(['runoob', 1, 'runoob.com'])\n"
     ]
    }
   ],
   "source": [
    "dict1 = {}\n",
    "dict1['one'] = 1\n",
    "dict1[2] = 2\n",
    "print(dict1)\n",
    "\n",
    "dict2 = {'name':'runoob', 'code':1, 'site':'runoob.com'}\n",
    "print(dict2)\n",
    "print(dict2.keys())\n",
    "print(dict2.values())"
   ]
  },
  {
   "cell_type": "code",
   "execution_count": null,
   "metadata": {},
   "outputs": [],
   "source": [
    "def get_frequency_dict(sequence):\n",
    "    \"\"\"\n",
    "    Returns a dictionary where the keys are elements of the sequence\n",
    "    and the values are integer counts, for the number of times that\n",
    "    an element is repeated in the sequence.\n",
    "\n",
    "    sequence: string or list\n",
    "    return: dictionary\n",
    "    \"\"\"\n",
    "    \n",
    "    # freqs: dictionary (element_type -> int)\n",
    "    freq = {}\n",
    "    for x in sequence:\n",
    "        freq[x] = freq.get(x,0) + 1\n",
    "    return freq\n",
    "\n",
    "def most_common_letter(freq):\n",
    "    values = freq.values()\n",
    "    best = max(values)\n",
    "    words = []\n",
    "    for k in freq:\n",
    "        if freq[k] == best:\n",
    "            words.append(k)\n",
    "    return (words, best)"
   ]
  },
  {
   "cell_type": "markdown",
   "metadata": {},
   "source": [
    "* 构造函数 \n",
    "    * dict() builds dictionaries directly from sequences of key-value pairs\n",
    "    * When the keys are simple strings, it is sometimes easier to specify pairs using keyword arguments\n",
    "    * dict comprehension"
   ]
  },
  {
   "cell_type": "code",
   "execution_count": 13,
   "metadata": {},
   "outputs": [
    {
     "name": "stdout",
     "output_type": "stream",
     "text": [
      "{'one': 1, 'two': 2, 'three': 3}\n",
      "{2: 4, 4: 16, 6: 36}\n",
      "{'one': 1, 'two': 2, 'three': 3}\n"
     ]
    }
   ],
   "source": [
    "a = dict([('one',1),('two',2),('three',3)])\n",
    "b = {x: x**2 for x in (2,4,6)}   # \n",
    "c = dict(one=1, two=2, three=3)  #如果key是简单的字符串\n",
    "print(a)\n",
    "print(b)\n",
    "print(c)"
   ]
  },
  {
   "cell_type": "code",
   "execution_count": 9,
   "metadata": {},
   "outputs": [
    {
     "name": "stdout",
     "output_type": "stream",
     "text": [
      "321\n"
     ]
    }
   ],
   "source": [
    "a = {320:1, 321:0, 322:3}\n",
    "print(min(a, key = a.get))   #find min with key = value"
   ]
  },
  {
   "cell_type": "markdown",
   "metadata": {},
   "source": [
    "## Conversion\n",
    "* int(x[,base])\n",
    "* float(x)\n",
    "* complex(real[,imag])\n",
    "* str(x)\n",
    "* repr(x) 表达式字符串\n",
    "* eval(str) 计算在字符串中的有效Python表达式,并返回一个对象\n",
    "* tuple(s)\n",
    "* list(s)\n",
    "* set(s)\n",
    "* dict(d) d必须是(key,value)tuple's list\n",
    "* frozenset(s) 不可变集合\n",
    "* chr(x) \n",
    "* ord(x) 字符->整数值\n",
    "* hex(x)\n",
    "* oct(x)\n",
    "\n",
    "\n"
   ]
  },
  {
   "cell_type": "markdown",
   "metadata": {},
   "source": [
    "# Operations\n",
    "\n",
    "## interactive mode\n",
    "* the last printed expression is assigned to the variable _\n",
    "\n"
   ]
  },
  {
   "cell_type": "markdown",
   "metadata": {},
   "source": [
    "## Numerical operations\n",
    "* +, -,*: if both are ints, result is int; if either or both are floats, result is float\n",
    "* /: float\n",
    "* //, %, **\n",
    "* 在混合计算时，Python会把整型转换成为浮点数。\n",
    "* 科学计数法： -32.54e100"
   ]
  },
  {
   "cell_type": "code",
   "execution_count": 11,
   "metadata": {},
   "outputs": [
    {
     "name": "stdout",
     "output_type": "stream",
     "text": [
      "0.5 0 2 32\n"
     ]
    }
   ],
   "source": [
    "print(2/4, 2//4, 17 % 3, 2**5)"
   ]
  },
  {
   "cell_type": "markdown",
   "metadata": {},
   "source": [
    "## Comparison operations"
   ]
  },
  {
   "cell_type": "code",
   "execution_count": 9,
   "metadata": {},
   "outputs": [
    {
     "name": "stdout",
     "output_type": "stream",
     "text": [
      "False True False\n",
      "False\n"
     ]
    }
   ],
   "source": [
    "print(1 == 2, 1 != 2, 1 > 2)\n",
    "print(1 < 2 == 3)  # 1<2 and 2==3  comparison can be chained"
   ]
  },
  {
   "cell_type": "markdown",
   "metadata": {},
   "source": [
    "* Comparing Sequences and Other Types: lexicographical ordering\n",
    "    * If one sequence is an initial sub-sequence of the other, the shorter sequence is the smaller (lesser) one\n",
    "    * for strings: uses the Unicode code point number to order individual characters\n"
   ]
  },
  {
   "cell_type": "markdown",
   "metadata": {},
   "source": [
    "## 赋值运算符"
   ]
  },
  {
   "cell_type": "code",
   "execution_count": 13,
   "metadata": {},
   "outputs": [
    {
     "name": "stdout",
     "output_type": "stream",
     "text": [
      "3\n",
      "6\n",
      "3\n",
      "27\n"
     ]
    }
   ],
   "source": [
    "a = 2\n",
    "a += 1\n",
    "print(a)\n",
    "a *=2\n",
    "print(a)\n",
    "a //=2\n",
    "print(a)\n",
    "a **=3\n",
    "print(a)"
   ]
  },
  {
   "cell_type": "markdown",
   "metadata": {},
   "source": [
    "## 位运算符\n",
    "* & 按位and\n",
    "* | 按位or\n",
    "* ^ 按位xor （相异->1)\n",
    "* ~ 按位取反 （1->0, 0->1)\n",
    "* << 左移，高位丢弃，低位补0\n",
    "* \\>> 右移\n",
    "\n",
    "\n",
    "\n"
   ]
  },
  {
   "cell_type": "code",
   "execution_count": 14,
   "metadata": {},
   "outputs": [
    {
     "name": "stdout",
     "output_type": "stream",
     "text": [
      "12\n",
      "61\n",
      "49\n",
      "-61\n",
      "240\n",
      "15\n"
     ]
    }
   ],
   "source": [
    "a = 60 ## 0011 1100\n",
    "b = 13 ## 0000 1101\n",
    "print(a & b)  ## 12 = 0000 1100\n",
    "print(a | b)  ## 61 = 0011 1101\n",
    "print(a ^ b)  ## 48 = 0011 0001\n",
    "print(~a)     ## -61 = -0011 1101 = 1100 0011 (高位取1， 取反，+1) \n",
    "# ~a = -(a+1)\n",
    "print(a<<2)   ## 240 = 1111 0000\n",
    "print(a>>2)   ## 15 = 00001111\n"
   ]
  },
  {
   "cell_type": "markdown",
   "metadata": {},
   "source": [
    "## Logical operations on bool\n",
    "and, or, not"
   ]
  },
  {
   "cell_type": "markdown",
   "metadata": {},
   "source": [
    "## 成员、身份运算符\n",
    "* in, not in: check whether a value occurs (does not occur) in a sequence\n",
    "* is, is not: compare whether two objects are really the same object; this only matters for mutable objects like lists（id(a)==id(b))"
   ]
  },
  {
   "cell_type": "code",
   "execution_count": 15,
   "metadata": {},
   "outputs": [
    {
     "name": "stdout",
     "output_type": "stream",
     "text": [
      "True\n",
      "False\n",
      "True\n"
     ]
    }
   ],
   "source": [
    "a = 20\n",
    "b = 20\n",
    "print (a is b)\n",
    "b = 30\n",
    "print(a is b)\n",
    "print(a is not b)"
   ]
  },
  {
   "cell_type": "markdown",
   "metadata": {},
   "source": [
    "## 优先级\n",
    "**  \n",
    "~ +@ -@  \n",
    "\\* / % //  \n",
    "\\+ -  \n",
    "\\>> <<  \n",
    "&  \n",
    "^ |  \n",
    "<= < > >=  \n",
    "== !=  \n",
    "= %= /= +=  \n",
    "is is not  \n",
    "in not in  \n",
    "and or not  "
   ]
  },
  {
   "cell_type": "markdown",
   "metadata": {},
   "source": [
    " # Control flow\n",
    " ## if\n",
    " \n",
    "注意：and 和 or 的优先级低于>（大于）、<（小于）等判断符号\n"
   ]
  },
  {
   "cell_type": "code",
   "execution_count": null,
   "metadata": {},
   "outputs": [],
   "source": [
    "if <condition>:\n",
    "    #...\n",
    "else:\n",
    "    #...\n",
    "    \n",
    "if <condition>:\n",
    "    #...\n",
    "elif <condition2>:\n",
    "    #...\n",
    "elif <condition3>:\n",
    "    #...\n",
    "else:\n",
    "    #..."
   ]
  },
  {
   "cell_type": "markdown",
   "metadata": {},
   "source": [
    "## While loops\n"
   ]
  },
  {
   "cell_type": "code",
   "execution_count": null,
   "metadata": {},
   "outputs": [],
   "source": [
    "while <condition>:\n",
    "    #...\n",
    "    \n",
    "while 1: \n",
    "    #...\n",
    "    \n",
    "while <condition>:\n",
    "    #...\n",
    "else:\n",
    "    #,,,"
   ]
  },
  {
   "cell_type": "markdown",
   "metadata": {},
   "source": [
    "## For loops\n",
    "\n"
   ]
  },
  {
   "cell_type": "code",
   "execution_count": null,
   "metadata": {},
   "outputs": [],
   "source": [
    "for <variable> in <sequence>:\n",
    "    #...\n",
    "else:\n",
    "    #...\n",
    "    "
   ]
  },
  {
   "cell_type": "code",
   "execution_count": 27,
   "metadata": {},
   "outputs": [
    {
     "name": "stdout",
     "output_type": "stream",
     "text": [
      "p,y,t,h,o,n,\n",
      "1,3,abc,"
     ]
    }
   ],
   "source": [
    "for letter in 'python':\n",
    "    print(letter, end = ',')\n",
    "print()\n",
    "language = [\"1\",\"3\",\"abc\"]\n",
    "for x in language:\n",
    "    print(x, end = ',')"
   ]
  },
  {
   "cell_type": "markdown",
   "metadata": {},
   "source": [
    "* range: it is not a list. It is an object which returns the successive items of the desired sequence when you iterate over it, but it doesn’t really make the list, thus saving space.\n",
    "    * range(start, stop, step)"
   ]
  },
  {
   "cell_type": "code",
   "execution_count": 42,
   "metadata": {},
   "outputs": [
    {
     "name": "stdout",
     "output_type": "stream",
     "text": [
      "0,1,2,3,4,\n",
      "3,4,5,6,7,8,9,\n",
      "0,3,6,9,\n",
      "0 2 1 2 2 1 3 4 4 2 \n"
     ]
    }
   ],
   "source": [
    "for i in range(5):\n",
    "    print(i, end = ',')\n",
    "print()\n",
    "\n",
    "for i in range(3,10):\n",
    "    print(i,end = ',')\n",
    "print()\n",
    "\n",
    "for i in range(0, 10, 3):\n",
    "    print(i,end = ',')\n",
    "print()\n",
    "\n",
    "a = [2, 2, 1, 4, 2]\n",
    "for i in range(len(a)):  # iterate over a list\n",
    "    print(i, a[i], end = ' ')\n",
    "print()"
   ]
  },
  {
   "cell_type": "markdown",
   "metadata": {},
   "source": [
    "## break and continue & else in loops\n",
    "* continue: 跳过该次循环\n",
    "* break: 退出循环  (else 将不执行）"
   ]
  },
  {
   "cell_type": "code",
   "execution_count": 17,
   "metadata": {},
   "outputs": [
    {
     "name": "stdout",
     "output_type": "stream",
     "text": [
      "2 3 5 7 11 13 17 19 23 29 31 37 41 43 47 53 59 61 67 71 73 79 83 89 97 "
     ]
    }
   ],
   "source": [
    "import math\n",
    "for n in range(2, 100):\n",
    "    for m in range(2, n):\n",
    "        if (n % m ==0):\n",
    "            break\n",
    "    else:\n",
    "        print(n, end =' ')"
   ]
  },
  {
   "cell_type": "markdown",
   "metadata": {},
   "source": [
    "## Looping techniques"
   ]
  },
  {
   "cell_type": "code",
   "execution_count": 4,
   "metadata": {},
   "outputs": [
    {
     "name": "stdout",
     "output_type": "stream",
     "text": [
      "abc 123\n",
      "def 345\n",
      "\n"
     ]
    }
   ],
   "source": [
    "dict = {'abc': 123, 'def': 345}\n",
    "for k, v in dict.items():    #dict\n",
    "    print(k,v)\n",
    "print()"
   ]
  },
  {
   "cell_type": "code",
   "execution_count": 7,
   "metadata": {},
   "outputs": [
    {
     "name": "stdout",
     "output_type": "stream",
     "text": [
      "0 a,1 b,2 c,\n",
      "c,b,a,\n",
      "a,b,c,\n",
      "a 3,b 5,c 7,\n",
      "['demonstrate', 'b', 'c', 'd', 'demonstrate']\n"
     ]
    }
   ],
   "source": [
    "list = ['a', 'b', 'c']\n",
    "for i, v in enumerate(list):  #list 同时得到索引值和对应值 vs range(len(list))\n",
    "    print(i, v, end = ',')\n",
    "print()\n",
    "\n",
    "for i in reversed(list):  #list in reversing order\n",
    "    print(i, end = ',')\n",
    "print()\n",
    "\n",
    "for i in sorted(set(list)):  #list sorted\n",
    "    print(i, end = ',')\n",
    "print()\n",
    "\n",
    "list1 = list\n",
    "list2 = [3, 5, 7]\n",
    "for a, b in zip(list1, list2):  #2 lists\n",
    "    print(a, b, end = ',')\n",
    "print()\n",
    "    \n",
    "words = ['demonstrate', 'b', 'c', 'd']\n",
    "for w in words[:]:  # make a copy when you need to modify a list in the loop\n",
    "    if len(w)>6:\n",
    "        words.append(w)\n",
    "print(words)"
   ]
  },
  {
   "cell_type": "markdown",
   "metadata": {},
   "source": [
    "## Pass statement\n",
    "* do nothing, use to create empty loop/class\n",
    "* often used as a place-holder for a function or conditional body when you are working on new code, allowing you to keep thinking at a more abstract level"
   ]
  },
  {
   "cell_type": "markdown",
   "metadata": {},
   "source": [
    "# iterator and generator\n",
    "## interator\n",
    "从集合的第一个元素开始访问，直到所有的元素被访问完结束。迭代器只能往前不会后退。"
   ]
  },
  {
   "cell_type": "code",
   "execution_count": 50,
   "metadata": {},
   "outputs": [
    {
     "name": "stdout",
     "output_type": "stream",
     "text": [
      "1\n",
      "2\n",
      "3 4 5 6 \n",
      "a b c "
     ]
    },
    {
     "ename": "SystemExit",
     "evalue": "",
     "output_type": "error",
     "traceback": [
      "An exception has occurred, use %tb to see the full traceback.\n",
      "\u001b[1;31mSystemExit\u001b[0m\n"
     ]
    }
   ],
   "source": [
    "import sys\n",
    "list = [1,2,3,4,5,6]\n",
    "it = iter(list)\n",
    "print(next(it))\n",
    "print(next(it))\n",
    "\n",
    "for x in it:\n",
    "    print(x, end = ' ')\n",
    "print()\n",
    "\n",
    "list2 = ['a','b','c']\n",
    "it = iter(list2)\n",
    "while 1:\n",
    "    try:\n",
    "        print(next(it), end = ' ')\n",
    "    except StopIteration:\n",
    "        sys.exit()"
   ]
  },
  {
   "cell_type": "markdown",
   "metadata": {},
   "source": [
    "## create a generator in class"
   ]
  },
  {
   "cell_type": "code",
   "execution_count": 54,
   "metadata": {},
   "outputs": [
    {
     "name": "stdout",
     "output_type": "stream",
     "text": [
      "1\n",
      "2\n",
      "3\n",
      "4\n",
      "5\n",
      "6\n",
      "7\n",
      "8\n",
      "9\n",
      "10\n"
     ]
    }
   ],
   "source": [
    "class MyNumbers:\n",
    "  def __iter__(self):\n",
    "    self.a = 1\n",
    "    return self\n",
    " \n",
    "  def __next__(self):\n",
    "    if self.a <= 10:\n",
    "        x = self.a\n",
    "        self.a += 1\n",
    "        return x\n",
    "    else:\n",
    "        raise StopIteration  #结束迭代\n",
    " \n",
    "myclass = MyNumbers()\n",
    "myiter = iter(myclass)\n",
    " \n",
    "for x in myiter:\n",
    "    print(x)"
   ]
  },
  {
   "cell_type": "markdown",
   "metadata": {},
   "source": [
    "## generator\n",
    "yield: 暂停并保存当前所有运行信息，返回yield的值，并在下一次执行next()时从当前位置继续运行"
   ]
  },
  {
   "cell_type": "code",
   "execution_count": 55,
   "metadata": {},
   "outputs": [
    {
     "name": "stdout",
     "output_type": "stream",
     "text": [
      "0 1 1 2 3 5 8 13 21 34 55 "
     ]
    },
    {
     "ename": "SystemExit",
     "evalue": "",
     "output_type": "error",
     "traceback": [
      "An exception has occurred, use %tb to see the full traceback.\n",
      "\u001b[1;31mSystemExit\u001b[0m\n"
     ]
    }
   ],
   "source": [
    "import sys\n",
    "def fibonacci(n):\n",
    "    a, b, counter = 0, 1, 0\n",
    "    while True:\n",
    "        if (counter > n):\n",
    "            return\n",
    "        yield a\n",
    "        a, b = b, a + b\n",
    "        counter += 1\n",
    "\n",
    "f = fibonacci(10)\n",
    "while 1:\n",
    "    try:\n",
    "        print(next(f), end = ' ')\n",
    "    except StopIteration:\n",
    "        sys.exit()"
   ]
  },
  {
   "cell_type": "markdown",
   "metadata": {},
   "source": [
    "# Function\n",
    "## Defining a function\n",
    "* docstring at the start using \"\"\"\n",
    "* Argument values\n",
    "    * 不可变类型：传递的只是a的值 （function 内部修改它的值，并不会影响其本身）\n",
    "    * 可变类型： 传递的是a本身，修改后function外部的值也会受影响"
   ]
  },
  {
   "cell_type": "code",
   "execution_count": 6,
   "metadata": {},
   "outputs": [
    {
     "name": "stdout",
     "output_type": "stream",
     "text": [
      "2\n",
      "[1, 2, 3, 3]\n"
     ]
    }
   ],
   "source": [
    "def changeint(a,b):\n",
    "    a = 10\n",
    "    b.append(3)\n",
    "\n",
    "a1 = 2\n",
    "b1 = [1,2,3]\n",
    "changeint(a1, b1)\n",
    "print(a1)\n",
    "print(b1)\n",
    "\n"
   ]
  },
  {
   "cell_type": "markdown",
   "metadata": {},
   "source": [
    "* Keyword argument：允许调用时参数的顺序与声明时不一致\n"
   ]
  },
  {
   "cell_type": "code",
   "execution_count": 9,
   "metadata": {},
   "outputs": [
    {
     "name": "stdout",
     "output_type": "stream",
     "text": [
      "name: ma age: 15 rank: 3\n",
      "name: wang age: 30 rank: 3\n",
      "name: zhang age: 20 rank: 1\n"
     ]
    }
   ],
   "source": [
    "def printinfo(name, age = 30, rank =3):\n",
    "    print(\"name:\", name, 'age:', age, 'rank:', rank)\n",
    "\n",
    "printinfo( age = 15, name = 'ma')  # 2 keywords\n",
    "printinfo( name = 'wang') # 1 keyword\n",
    "printinfo( 'zhang', rank = 1, age = 20) #1 positional, 2 keywords\n",
    "# printinfo( name = 'teo', 30, 2) # error: positional argument follows keyword argument"
   ]
  },
  {
   "cell_type": "markdown",
   "metadata": {},
   "source": [
    "* Default argument values： 如果没有传递参数，使用默认参数\n",
    "    * The default values are evaluated at the point of function definition in the defining scope\n",
    "    * only evaluated once"
   ]
  },
  {
   "cell_type": "code",
   "execution_count": 1,
   "metadata": {},
   "outputs": [
    {
     "name": "stdout",
     "output_type": "stream",
     "text": [
      "5\n"
     ]
    }
   ],
   "source": [
    "i = 5\n",
    "def f(arg = i):\n",
    "    print(arg)\n",
    "i = 6\n",
    "f()"
   ]
  },
  {
   "cell_type": "code",
   "execution_count": 5,
   "metadata": {},
   "outputs": [
    {
     "name": "stdout",
     "output_type": "stream",
     "text": [
      "[0]\n",
      "[0, 1]\n",
      "[0, 1, 2]\n",
      "[0, 1, 2, 3]\n",
      "[0, 1, 2, 3, 4]\n",
      "\n",
      "[0]\n",
      "[1]\n",
      "[2]\n",
      "[3]\n",
      "[4]\n"
     ]
    }
   ],
   "source": [
    "def f1(a, L = []):  #default argument value only evaluated once\n",
    "    L.append(a)\n",
    "    return L\n",
    "\n",
    "def f2(a, L = None):  #If you don’t want the default to be shared between subsequent calls\n",
    "    if L is None:\n",
    "        L = []\n",
    "    L.append(a)\n",
    "    return L\n",
    "    \n",
    "for i in range(5):\n",
    "    print(f1(i))\n",
    "print()\n",
    "for i in range(5):\n",
    "    print(f2(i))"
   ]
  },
  {
   "cell_type": "markdown",
   "metadata": {},
   "source": [
    "* arbitrary argument lists\n",
    "    * \\**name receive a dictionary: containing all keyword arguments except for those corresponding to a formal parameter\n",
    "    * \\*name receive a tuple: containing the positional arguments beyond the formal parameter list\n",
    "    * \\*name must occur before \\**name"
   ]
  },
  {
   "cell_type": "code",
   "execution_count": 19,
   "metadata": {},
   "outputs": [
    {
     "name": "stdout",
     "output_type": "stream",
     "text": [
      "70\n",
      "(1, 3, 4)\n",
      "\n",
      "2\n",
      "()\n",
      "\n",
      "30\n",
      "{'a': 2, 'b': 3}\n",
      "\n",
      "20\n",
      "('abc', 'fea', 45)\n",
      "{'a': 3, 'b': 2}\n"
     ]
    }
   ],
   "source": [
    "def printinfo1(arg1, *vartuple):\n",
    "    print(arg1)\n",
    "    print(vartuple)\n",
    "def printinfo2(arg1, **vardict):\n",
    "    print(arg1)\n",
    "    print(vardict)\n",
    "def printinfo3(arg1, *vartuple, **vardict):\n",
    "    print(arg1)\n",
    "    print(vartuple)\n",
    "    print(vardict)\n",
    "printinfo1(70, 1, 3, 4)\n",
    "print()\n",
    "printinfo1(2)\n",
    "print()\n",
    "printinfo2(30, a = 2, b = 3)\n",
    "print()\n",
    "printinfo3(20, 'abc', 'fea', 45, a = 3, b = 2)"
   ]
  },
  {
   "cell_type": "markdown",
   "metadata": {},
   "source": [
    "* Unpacking Argument Lists\n",
    "    * use dictionries/tuples to deliver keyword arguments using ** or *"
   ]
  },
  {
   "cell_type": "code",
   "execution_count": 26,
   "metadata": {},
   "outputs": [
    {
     "name": "stdout",
     "output_type": "stream",
     "text": [
      "3 4 5\n",
      "200 closed pi\n"
     ]
    }
   ],
   "source": [
    "def f(a,b,c):\n",
    "    print(a,b,c)\n",
    "x = range(3,6)\n",
    "f(*x)\n",
    "    \n",
    "def ff(voltage, state = 'open', action = 'zoom'):\n",
    "    print(voltage, state, action)\n",
    "d = {\"voltage\": \"200\", \"state\": \"closed\", \"action\": \"pi\" }\n",
    "ff(**d)"
   ]
  },
  {
   "cell_type": "markdown",
   "metadata": {},
   "source": [
    "## Renaming mechanism"
   ]
  },
  {
   "cell_type": "code",
   "execution_count": 41,
   "metadata": {},
   "outputs": [
    {
     "name": "stdout",
     "output_type": "stream",
     "text": [
      "200\n",
      "<function fib at 0x00000272BB9FA048>\n",
      "100\n",
      "<function fib at 0x00000272BB9FA048>\n"
     ]
    }
   ],
   "source": [
    "def fib(n):\n",
    "    return(2*n)\n",
    "print(fib(100))\n",
    "print(fib)\n",
    "f = fib\n",
    "print(f(50))\n",
    "print(f)"
   ]
  },
  {
   "cell_type": "markdown",
   "metadata": {},
   "source": [
    "## lambda函数"
   ]
  },
  {
   "cell_type": "code",
   "execution_count": 20,
   "metadata": {},
   "outputs": [
    {
     "name": "stdout",
     "output_type": "stream",
     "text": [
      "3\n"
     ]
    }
   ],
   "source": [
    "sum = lambda arg1, arg2: arg1 + arg2\n",
    "print(sum(1,2))"
   ]
  },
  {
   "cell_type": "code",
   "execution_count": 27,
   "metadata": {},
   "outputs": [
    {
     "name": "stdout",
     "output_type": "stream",
     "text": [
      "43\n",
      "44\n"
     ]
    }
   ],
   "source": [
    "def make_increment(n):\n",
    "    return lambda x: x+n\n",
    "f = make_increment(42)\n",
    "print(f(1))\n",
    "print(f(2))"
   ]
  },
  {
   "cell_type": "code",
   "execution_count": 40,
   "metadata": {},
   "outputs": [
    {
     "name": "stdout",
     "output_type": "stream",
     "text": [
      "[(4, 'four'), (1, 'one'), (3, 'three'), (2, 'two')]\n",
      "[(4, 'four'), (1, 'one'), (3, 'three'), (2, 'two')]\n"
     ]
    }
   ],
   "source": [
    "pairs1 = pairs2 = [(1, 'one'), (2, 'two'), (3, 'three'), (4, 'four')]\n",
    "pairs1.sort(key = lambda pair: pair[1])  #sort list according to the 2nd element\n",
    "print(pairs1)\n",
    "\n",
    "def test(pair):\n",
    "    return pair[1]\n",
    "pairs2.sort(key = test)\n",
    "print(pairs2)"
   ]
  },
  {
   "cell_type": "markdown",
   "metadata": {},
   "source": [
    "## return\n",
    "* return some value\n",
    "* return 本身: 退出函数返回None\n",
    "* no return: 返回None"
   ]
  },
  {
   "cell_type": "markdown",
   "metadata": {},
   "source": [
    "# Scope\n",
    "* The execution of a function introduces a new symbol table used for the local variables of the function.\n",
    "* Local, Enclosing, Global, Built-in\n",
    "    * variable reference 查找顺序 L > E > G > B \n",
    "        * in a functionm, can access a variable defined outside \n",
    "    * cannot modify a variable defined outside\n",
    "        * 如果未reference， 试图修改 -其实是新建了一个新的同名local variable\n",
    "        * 如果已经make reference，则无法修改\n",
    "        * unless use global, nonlocal(for enclosing variables)\n",
    "        * alternative - 使用参数传递\n",
    "* 只有module，class，def，lambda会引入新的作用域\n"
   ]
  },
  {
   "cell_type": "code",
   "execution_count": 34,
   "metadata": {},
   "outputs": [],
   "source": [
    "g_count = 0  #global\n",
    "def outer():\n",
    "    o_count = 1  #enclosing\n",
    "    def inner():\n",
    "        i_count = 2  #local"
   ]
  },
  {
   "cell_type": "code",
   "execution_count": 35,
   "metadata": {},
   "outputs": [
    {
     "name": "stdout",
     "output_type": "stream",
     "text": [
      "1\n"
     ]
    }
   ],
   "source": [
    "num = 1\n",
    "def fun1():\n",
    "    print(num)  #可以查找\n",
    "fun1()"
   ]
  },
  {
   "cell_type": "code",
   "execution_count": null,
   "metadata": {},
   "outputs": [],
   "source": [
    "num = 1\n",
    "def fun1():\n",
    "    print(num) \n",
    "    num = 123   #一旦之前reference过，代表num是global作用域里的num，cannot change then\n",
    "fun1()\n",
    "print(num)"
   ]
  },
  {
   "cell_type": "code",
   "execution_count": 31,
   "metadata": {},
   "outputs": [
    {
     "name": "stdout",
     "output_type": "stream",
     "text": [
      "1\n",
      "123\n",
      "123\n"
     ]
    }
   ],
   "source": [
    "num = 1\n",
    "def fun1():\n",
    "    global num  # 需要使用 global 关键字声明，即可以在local作用域中修改global variable\n",
    "    print(num) \n",
    "    num = 123\n",
    "    print(num)\n",
    "fun1()\n",
    "print(num)"
   ]
  },
  {
   "cell_type": "code",
   "execution_count": 33,
   "metadata": {},
   "outputs": [
    {
     "name": "stdout",
     "output_type": "stream",
     "text": [
      "123\n",
      "1\n"
     ]
    }
   ],
   "source": [
    "num = 1\n",
    "def fun1():\n",
    "    num = 123   #这里的num与global作用域中的无关，是一个新的local variable\n",
    "    print(num)  #优先查找到local作用域中的num\n",
    "fun1()\n",
    "print(num)      #global作用域中的num未被修改"
   ]
  },
  {
   "attachments": {
    "7.png": {
     "image/png": "[encoded data removed]"
    }
   },
   "cell_type": "markdown",
   "metadata": {},
   "source": [
    "# Modules\n",
    "## Modules\n",
    "* A module can contain executable statements as well as function definitions.\n",
    "* the module’s name (as a string) is available as the value of the global variable \\__name\\__\n",
    "* Each module has its own private symbol table\n",
    "    * saves the authors of different modules from having to worry about each other’s global variable names\n",
    "* each module is only imported once per interpreter session\n",
    "* Module search path\n",
    "    1. searches for a built-in module\n",
    "    2. searches  for a file named spam.py in a list of directories given by the variable sys.path.\n",
    "\n",
    "\n",
    "## Import\n",
    "* import somemodule #将整个模块(somemodule)导入，格式为：\n",
    "    * somemodule.somefunction\n",
    "    * If you intend to use a function often you can assign it to a local name: fib = fibo.fib\n",
    "* from somemodule import somefunction  #从某个模块中导入某个函数\n",
    "* from somemodule import firstfunc, secondfunc, thirdfunc #从某个模块中导入多个函数\n",
    "* from somemodule import *  #将某个模块中的全部函数导入except those beginning with an underscore\n",
    "    * directly use somefunction\n",
    "* import somemodule as name\n",
    "\n",
    "## Standard Modules\n",
    "* import sys, modulename\n",
    "* dir(modulename)  #find out which names a module defines: variables, modules, functions, etc.\n",
    "    * if want to list the names of built-in functions and variables, use dir(builtins)\n",
    "    \n",
    "## Packages\n",
    "* Purpose: saves the authors of multi-module packages like NumPy or Pillow from having to worry about each other’s module names\n",
    "* ![7.png](attachment:7.png)\n",
    "    * When importing the package, Python searches through the directories on sys.path looking for the package subdirectory.\n",
    "    * The \\__init__.py files are required to make Python treat directories containing the file as packages.\n",
    "        * can be an empty file, but it can also execute initialization code for the package or set the \\__all__ variable\n",
    "* Import\n",
    "    * A.B designates a submodule named B in a package named A\n",
    "    * import an individual module\n",
    "        * import sound.effects.echo   #must be referenced as sound.effects.echo\n",
    "        * from sound.effects import echo    #referenced as echo\n",
    "    * import a function\n",
    "        * from sound.effects.echo import echofilter\n",
    "    * from package import item\n",
    "        * the item can be submodule/subpackage, or function/class/variable\n",
    "        * the import statement first tests whether the item is defined in the package; if not, it assumes it is a module and attempts to load it.\n",
    "    * import item.subitem.subsubitem\n",
    "        * each item except for the last must be a package\n",
    "        * the last item can be a module or a package\n",
    "    * from item.subitem import *\n",
    "        * if a package’s \\__init__.py code defines a list named \\__all__, it is taken to be the list of module names that should be imported\n",
    "        * If \\__all__ is not defined, only ensures that the package item.subitem itself has been imported (possibly running any initialization code in \\__init__.py) and then imports whatever names are defined in the package (ncludes any names defined by \\__init__.py. and any submodules of the package that were explicitly loaded by previous import statements)\n",
    "    * intra-package reference\n",
    "        * in subpackages, can import submodules from sibling packages\n",
    "        * relative imports (e.g. in surround.py)\n",
    "            * from . import echo\n",
    "            * from .. import formats\n",
    "            * from ..filters import equalizer"
   ]
  },
  {
   "cell_type": "markdown",
   "metadata": {},
   "source": [
    "# input and output\n",
    "## Output formatting\n",
    "\n",
    "* 默认：换行 不需要换行 加上end=''\n",
    "* 将输出的值转化为strings\n",
    "    * str()： 用户易读的表达形式\n",
    "    * repr()： 解释器易读的表达形式 （可包含转义字符)\n",
    "        * or will force a SyntaxError if there is no equivalent syntax"
   ]
  },
  {
   "cell_type": "code",
   "execution_count": 32,
   "metadata": {},
   "outputs": [
    {
     "name": "stdout",
     "output_type": "stream",
     "text": [
      "(32, 15, ('Google', 'Runoob')) (32, 15, ('Google', 'Runoob'))\n",
      "hello world 'hello world'\n"
     ]
    }
   ],
   "source": [
    "a = (32, 15, ('Google', 'Runoob'))\n",
    "print(str(a), repr(a))\n",
    "b = 'hello world'\n",
    "print(str(b), repr(b))"
   ]
  },
  {
   "cell_type": "markdown",
   "metadata": {},
   "source": [
    "* formatted string literals:  include the value of Python expressions inside a string"
   ]
  },
  {
   "cell_type": "code",
   "execution_count": 22,
   "metadata": {},
   "outputs": [
    {
     "name": "stdout",
     "output_type": "stream",
     "text": [
      "result of the 2016 referendum\n"
     ]
    }
   ],
   "source": [
    "year = 2016\n",
    "event = 'referendum'\n",
    "print(f'result of the {year} {event}')"
   ]
  },
  {
   "cell_type": "code",
   "execution_count": 31,
   "metadata": {},
   "outputs": [
    {
     "name": "stdout",
     "output_type": "stream",
     "text": [
      "the value of pi is 3.142\n",
      "abc =    12\n",
      "Sjoerd    ==>      4127\n",
      "Jack      ==>      4098\n",
      "Dcab      ==>      7678\n"
     ]
    }
   ],
   "source": [
    "import math\n",
    "print(f'the value of pi is {math.pi:.3f}')    #{obj:.3f}  3 decimal places\n",
    "abc = 12\n",
    "print(f'abc = {abc:5d}')    #{obj:5d} 占5digit\n",
    "\n",
    "table = {'Sjoerd': 4127, 'Jack': 4098, 'Dcab': 7678}\n",
    "for name, phone in table.items():\n",
    "    print(f'{name:10}==>{phone:10}')    #{obj: 10} a minimum number of characters wide"
   ]
  },
  {
   "cell_type": "code",
   "execution_count": 21,
   "metadata": {},
   "outputs": [
    {
     "name": "stdout",
     "output_type": "stream",
     "text": [
      "My hovercraft is full of eels.\n",
      "My hovercraft is full of 65.\n",
      "My hovercraft is full of eels.\n",
      "My hovercraft is full of 'eels'.\n"
     ]
    }
   ],
   "source": [
    "animals = 'eels'\n",
    "number = 65\n",
    "print(f'My hovercraft is full of {animals}.')\n",
    "print(f'My hovercraft is full of {number!a}.')\n",
    "print(f'My hovercraft is full of {animals!s}.')    #{!s}使用str\n",
    "print(f'My hovercraft is full of {animals!r}.')    #{!r}使用repr"
   ]
  },
  {
   "cell_type": "markdown",
   "metadata": {},
   "source": [
    "* str.format"
   ]
  },
  {
   "cell_type": "code",
   "execution_count": 4,
   "metadata": {},
   "outputs": [
    {
     "name": "stdout",
     "output_type": "stream",
     "text": [
      "abc website is def\n",
      "def website is abc\n",
      "abc website is def, right?\n"
     ]
    }
   ],
   "source": [
    "print(\"{} website is {}\".format('abc','def'))\n",
    "print(\"{1} website is {0}\".format('abc','def'))     #number refers to the position of the object passed into it\n",
    "print(\"{name} website is {site}, {0}\".format('right?', name = 'abc', site = 'def')   #positional and keyword arguments can be mixed"
   ]
  },
  {
   "cell_type": "code",
   "execution_count": 35,
   "metadata": {},
   "outputs": [
    {
     "name": "stdout",
     "output_type": "stream",
     "text": [
      "Runoob: 2; Google: 1; Taobao: 3\n",
      "Runoob: 2; Google: 1; Taobao: 3\n"
     ]
    }
   ],
   "source": [
    "table = {'Google': 1, 'Runoob': 2, 'Taobao': 3}\n",
    "print('Runoob: {0[Runoob]:d}; Google: {0[Google]:d}; Taobao: {0[Taobao]:d}'.format(table))   #reference by name instead of by position\n",
    "print('Runoob: {Runoob:d}; Google: {Google:d}; Taobao: {Taobao:d}'.format(**table))  #passing the table as keyword arguments"
   ]
  },
  {
   "cell_type": "markdown",
   "metadata": {},
   "source": [
    "* manual string formatting\n",
    "    * str.rjust(n), str.ljust(n), str.center(): 靠r/l对齐，在左边填充空格使整个字符串变成n位\n",
    "    * str.zfill(n)：在左边填充0，使整个字符串变成n位\n",
    "    * If the input string is too long, they don’t truncate it, but return it unchanged\n",
    "        *if want it to be truncated, use x.ljust(n)[:n]"
   ]
  },
  {
   "cell_type": "code",
   "execution_count": 24,
   "metadata": {},
   "outputs": [
    {
     "name": "stdout",
     "output_type": "stream",
     "text": [
      " 1   1    1\n",
      " 2   4    8\n",
      " 3   9   27\n",
      " 4  16   64\n",
      " 5  25  125\n",
      " 6  36  216\n",
      " 7  49  343\n",
      " 8  64  512\n",
      " 9  81  729\n",
      "10 100 1000\n",
      " 1   1    1\n",
      " 2   4    8\n",
      " 3   9   27\n",
      " 4  16   64\n",
      " 5  25  125\n",
      " 6  36  216\n",
      " 7  49  343\n",
      " 8  64  512\n",
      " 9  81  729\n",
      "10 100 1000\n"
     ]
    }
   ],
   "source": [
    "for x in range(1, 11):\n",
    "    print(repr(x).rjust(2),repr(x*x).rjust(3), end = ' ') #第一个和第二个中间本来会自动产生一个空格\n",
    "    print(repr(x*x*x).rjust(4))\n",
    "    \n",
    "for x in range(1, 11):\n",
    "    print('{0:2d} {1:3d} {2:4d}'.format(x, x*x, x*x*x))"
   ]
  },
  {
   "cell_type": "markdown",
   "metadata": {},
   "source": [
    "## Input\n",
    "\n"
   ]
  },
  {
   "cell_type": "code",
   "execution_count": 38,
   "metadata": {},
   "outputs": [
    {
     "name": "stdout",
     "output_type": "stream",
     "text": [
      "please input:3\n",
      "what you have keyed in is 3\n"
     ]
    }
   ],
   "source": [
    "str = input(\"please input:\")\n",
    "print('what you have keyed in is '+ str)"
   ]
  },
  {
   "cell_type": "code",
   "execution_count": null,
   "metadata": {},
   "outputs": [],
   "source": [
    "cost = float(input\"please input the cost:\")"
   ]
  },
  {
   "cell_type": "markdown",
   "metadata": {},
   "source": [
    "## Reading and writing files\n",
    "open('filename', 'r')\n",
    "* Mode: default is 'r'\n",
    "    * r: read only\n",
    "    * r+: open for read & write\n",
    "    * w: write only(an existing file with the same name will be erased)\n",
    "    * a: open for appending\n",
    "    * b: binary mode(use when open non-text files)\n",
    "f.close"
   ]
  },
  {
   "cell_type": "code",
   "execution_count": null,
   "metadata": {},
   "outputs": [],
   "source": [
    "inFile = open(WORDLIST_FILENAME, 'r')"
   ]
  },
  {
   "cell_type": "code",
   "execution_count": null,
   "metadata": {},
   "outputs": [],
   "source": [
    "with open('workfile') as f:    #no need to close\n",
    "    read_data = f.open()"
   ]
  },
  {
   "cell_type": "markdown",
   "metadata": {},
   "source": [
    "* Mothods of file objects"
   ]
  },
  {
   "cell_type": "code",
   "execution_count": null,
   "metadata": {},
   "outputs": [],
   "source": [
    "f.read([size])   #return as a string;if everything is read, return''\n",
    "\n",
    "f.readline()     #read a line (with a '\\n' at the end)\n",
    "\n",
    "for line in f:\n",
    "    (cow_name, cow_weight) = tuple(line.strip().split(\",\"))\n",
    "    cow_dict[cow_name]= int(cow_weight)\n",
    "f.write(string)\n",
    "\n",
    "list(f)\n",
    "f.readlines()    # read all lines and put in a list"
   ]
  },
  {
   "cell_type": "markdown",
   "metadata": {},
   "source": [
    "* Json"
   ]
  },
  {
   "cell_type": "code",
   "execution_count": null,
   "metadata": {},
   "outputs": [],
   "source": [
    "import json\n",
    "json.dumps([1, 'simple', list])   #serialise sth -> string\n",
    "json.dump(x, f)  #serialise object x -> file f\n",
    "x = json.load(f)  #decode file f -> object x"
   ]
  },
  {
   "cell_type": "code",
   "execution_count": null,
   "metadata": {},
   "outputs": [],
   "source": []
  }
 ],
 "metadata": {
  "kernelspec": {
   "display_name": "Python [conda env:py3.6]",
   "language": "python",
   "name": "conda-env-py3.6-py"
  },
  "language_info": {
   "codemirror_mode": {
    "name": "ipython",
    "version": 3
   },
   "file_extension": ".py",
   "mimetype": "text/x-python",
   "name": "python",
   "nbconvert_exporter": "python",
   "pygments_lexer": "ipython3",
   "version": "3.6.8"
  },
  "toc": {
   "base_numbering": 1,
   "nav_menu": {},
   "number_sections": true,
   "sideBar": false,
   "skip_h1_title": false,
   "title_cell": "Table of Contents",
   "title_sidebar": "Contents",
   "toc_cell": false,
   "toc_position": {
    "height": "313.99px",
    "left": "56px",
    "top": "111.14px",
    "width": "165.458px"
   },
   "toc_section_display": true,
   "toc_window_display": true
  }
 },
 "nbformat": 4,
 "nbformat_minor": 2
}
