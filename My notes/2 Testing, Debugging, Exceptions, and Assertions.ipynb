{
 "cells": [
  {
   "cell_type": "markdown",
   "metadata": {},
   "source": [
    "# Testing and Debugging\n",
    "* Defensive programming\n",
    "    * modularisation: easy to test individually\n",
    "    * assertions: document constraints on inputs/outputs and assumptions behind code design\n",
    "* Classes of tests\n",
    "    * unit testing: test each function separately\n",
    "    * regression testing: come up with a test case that found that bug, run everythign again to catch reintroduced bugs\n",
    "    * integration testing\n",
    "* Testing approaches\n",
    "    * intuition about natural boundaries\n",
    "    * random testing\n",
    "    * blackbox testing\n",
    "        * only look at specifications\n",
    "        * consider different natural space partitions, also boundary conditions (empty lists, singleton list, large numbers, small numbers)\n",
    "    * glassbox testing\n",
    "        * use code itself to design test cases\n",
    "        * path complete test: potential path through code is tested at least once\n",
    "        * guidelines\n",
    "            * branches: exercise all parts of a conditional\n",
    "            * for loops: loop not entered; excuted exactly once; more than once\n",
    "            * while loop: cases that catch all ways to exit loop\n",
    "* Debugging tools\n",
    "    * print statements\n",
    "        * inside functions/loops; function results\n",
    "        * bisection method: put print halfway in code,\n",
    "    * error messages\n",
    "    * logic errors: think, draw pictures, explain to others\n",
    "* Guidlines\n",
    "    * write a function, test & debug; repeat then do integration testing\n",
    "    * backup codes before changing it, write down potential bug in a comment, test codes, compare new version with old version"
   ]
  },
  {
   "cell_type": "markdown",
   "metadata": {},
   "source": [
    "## Exceptions\n",
    "* IndexError, TypeError, NameError, SyntaxError, AttributeError, VlueError, IOError etc, ZeroDeivisionError\n",
    "* Dealing with exceptions"
   ]
  },
  {
   "cell_type": "code",
   "execution_count": null,
   "metadata": {},
   "outputs": [],
   "source": [
    "try:\n",
    "    a = int(input(\"Tell me one number:\"))\n",
    "    b = int(input(\"Tell me another number:\"))\n",
    "    print(a/b)\n",
    "except:\n",
    "    print(\"Bug in user input.\")"
   ]
  },
  {
   "cell_type": "code",
   "execution_count": null,
   "metadata": {},
   "outputs": [],
   "source": [
    "try:\n",
    "    a = int(input(\"Tell me one number: \"))\n",
    "    b = int(input(\"Tell me another number: \"))\n",
    "    print(\"a/b = \", a/b)\n",
    "    print(\"a+b = \", a+b)\n",
    "except ValueError:\n",
    "    raise ValueError(\"Could not convert to a number.\")\n",
    "except ZeroDivisionError:\n",
    "    print(\"Can't divide by zero\")\n",
    "    print('inf')\n",
    "except:\n",
    "    print(\"Something went very wrong.\")\n",
    "# else:\n",
    "#   <excuted if no exception is raised>\n",
    "# finally\n",
    "#   <always executed, useful for clean-up code e.g. close a file>"
   ]
  },
  {
   "cell_type": "markdown",
   "metadata": {},
   "source": [
    "## Assertions\n",
    "* ensure that execution halts whenever an expected condition is not met"
   ]
  },
  {
   "cell_type": "code",
   "execution_count": null,
   "metadata": {},
   "outputs": [],
   "source": [
    "def avg(grades):\n",
    "    assert len(grades) !=0, 'no grades data'\n",
    "    return sum(grades)/len(grades)"
   ]
  }
 ],
 "metadata": {
  "kernelspec": {
   "display_name": "Python 3",
   "language": "python",
   "name": "python3"
  },
  "language_info": {
   "codemirror_mode": {
    "name": "ipython",
    "version": 3
   },
   "file_extension": ".py",
   "mimetype": "text/x-python",
   "name": "python",
   "nbconvert_exporter": "python",
   "pygments_lexer": "ipython3",
   "version": "3.6.9"
  },
  "toc": {
   "base_numbering": 1,
   "nav_menu": {},
   "number_sections": true,
   "sideBar": true,
   "skip_h1_title": false,
   "title_cell": "Table of Contents",
   "title_sidebar": "Contents",
   "toc_cell": false,
   "toc_position": {},
   "toc_section_display": true,
   "toc_window_display": false
  }
 },
 "nbformat": 4,
 "nbformat_minor": 2
}
